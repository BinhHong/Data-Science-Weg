{
 "cells": [
  {
   "cell_type": "code",
   "execution_count": 38,
   "id": "75b3c53c",
   "metadata": {},
   "outputs": [],
   "source": [
    "import pandas as pd\n",
    "import numpy as np\n",
    "import seaborn as sns\n",
    "import matplotlib.pyplot as plt"
   ]
  },
  {
   "cell_type": "markdown",
   "id": "e21b8d7b",
   "metadata": {},
   "source": [
    "# 1. Random sampling"
   ]
  },
  {
   "cell_type": "code",
   "execution_count": 2,
   "id": "8626943d",
   "metadata": {},
   "outputs": [],
   "source": [
    "loans_income = pd.read_csv('loans_income.csv')"
   ]
  },
  {
   "cell_type": "code",
   "execution_count": 4,
   "id": "2e48f9e2",
   "metadata": {},
   "outputs": [
    {
     "data": {
      "text/html": [
       "<div>\n",
       "<style scoped>\n",
       "    .dataframe tbody tr th:only-of-type {\n",
       "        vertical-align: middle;\n",
       "    }\n",
       "\n",
       "    .dataframe tbody tr th {\n",
       "        vertical-align: top;\n",
       "    }\n",
       "\n",
       "    .dataframe thead th {\n",
       "        text-align: right;\n",
       "    }\n",
       "</style>\n",
       "<table border=\"1\" class=\"dataframe\">\n",
       "  <thead>\n",
       "    <tr style=\"text-align: right;\">\n",
       "      <th></th>\n",
       "      <th>x</th>\n",
       "    </tr>\n",
       "  </thead>\n",
       "  <tbody>\n",
       "    <tr>\n",
       "      <th>0</th>\n",
       "      <td>67000</td>\n",
       "    </tr>\n",
       "    <tr>\n",
       "      <th>1</th>\n",
       "      <td>52000</td>\n",
       "    </tr>\n",
       "    <tr>\n",
       "      <th>2</th>\n",
       "      <td>100000</td>\n",
       "    </tr>\n",
       "    <tr>\n",
       "      <th>3</th>\n",
       "      <td>78762</td>\n",
       "    </tr>\n",
       "    <tr>\n",
       "      <th>4</th>\n",
       "      <td>37041</td>\n",
       "    </tr>\n",
       "  </tbody>\n",
       "</table>\n",
       "</div>"
      ],
      "text/plain": [
       "        x\n",
       "0   67000\n",
       "1   52000\n",
       "2  100000\n",
       "3   78762\n",
       "4   37041"
      ]
     },
     "execution_count": 4,
     "metadata": {},
     "output_type": "execute_result"
    }
   ],
   "source": [
    "loans_income.head()"
   ]
  },
  {
   "cell_type": "code",
   "execution_count": 5,
   "id": "cfac98fe",
   "metadata": {},
   "outputs": [
    {
     "name": "stdout",
     "output_type": "stream",
     "text": [
      "<class 'pandas.core.frame.DataFrame'>\n",
      "RangeIndex: 50000 entries, 0 to 49999\n",
      "Data columns (total 1 columns):\n",
      " #   Column  Non-Null Count  Dtype\n",
      "---  ------  --------------  -----\n",
      " 0   x       50000 non-null  int64\n",
      "dtypes: int64(1)\n",
      "memory usage: 390.8 KB\n"
     ]
    }
   ],
   "source": [
    "loans_income.info()"
   ]
  },
  {
   "cell_type": "code",
   "execution_count": 12,
   "id": "af254569",
   "metadata": {},
   "outputs": [
    {
     "data": {
      "text/html": [
       "<div>\n",
       "<style scoped>\n",
       "    .dataframe tbody tr th:only-of-type {\n",
       "        vertical-align: middle;\n",
       "    }\n",
       "\n",
       "    .dataframe tbody tr th {\n",
       "        vertical-align: top;\n",
       "    }\n",
       "\n",
       "    .dataframe thead th {\n",
       "        text-align: right;\n",
       "    }\n",
       "</style>\n",
       "<table border=\"1\" class=\"dataframe\">\n",
       "  <thead>\n",
       "    <tr style=\"text-align: right;\">\n",
       "      <th></th>\n",
       "      <th>x</th>\n",
       "    </tr>\n",
       "  </thead>\n",
       "  <tbody>\n",
       "    <tr>\n",
       "      <th>32213</th>\n",
       "      <td>90000</td>\n",
       "    </tr>\n",
       "    <tr>\n",
       "      <th>16213</th>\n",
       "      <td>114000</td>\n",
       "    </tr>\n",
       "    <tr>\n",
       "      <th>22380</th>\n",
       "      <td>66900</td>\n",
       "    </tr>\n",
       "    <tr>\n",
       "      <th>18495</th>\n",
       "      <td>40000</td>\n",
       "    </tr>\n",
       "    <tr>\n",
       "      <th>25283</th>\n",
       "      <td>59506</td>\n",
       "    </tr>\n",
       "    <tr>\n",
       "      <th>...</th>\n",
       "      <td>...</td>\n",
       "    </tr>\n",
       "    <tr>\n",
       "      <th>38854</th>\n",
       "      <td>49000</td>\n",
       "    </tr>\n",
       "    <tr>\n",
       "      <th>30845</th>\n",
       "      <td>32000</td>\n",
       "    </tr>\n",
       "    <tr>\n",
       "      <th>34455</th>\n",
       "      <td>85000</td>\n",
       "    </tr>\n",
       "    <tr>\n",
       "      <th>45327</th>\n",
       "      <td>78000</td>\n",
       "    </tr>\n",
       "    <tr>\n",
       "      <th>30360</th>\n",
       "      <td>118000</td>\n",
       "    </tr>\n",
       "  </tbody>\n",
       "</table>\n",
       "<p>1000 rows × 1 columns</p>\n",
       "</div>"
      ],
      "text/plain": [
       "            x\n",
       "32213   90000\n",
       "16213  114000\n",
       "22380   66900\n",
       "18495   40000\n",
       "25283   59506\n",
       "...       ...\n",
       "38854   49000\n",
       "30845   32000\n",
       "34455   85000\n",
       "45327   78000\n",
       "30360  118000\n",
       "\n",
       "[1000 rows x 1 columns]"
      ]
     },
     "execution_count": 12,
     "metadata": {},
     "output_type": "execute_result"
    }
   ],
   "source": [
    "loans_income.sample(1000)"
   ]
  },
  {
   "cell_type": "code",
   "execution_count": 16,
   "id": "32ed7da0",
   "metadata": {},
   "outputs": [
    {
     "data": {
      "text/plain": [
       "array([ 62500,  20000, 110000,  68350,  40000, 120000,  70000,  74000,\n",
       "        36000,  66948,  40000,  77000,  40000, 110000, 175000,  48000,\n",
       "        65000, 142000,  77000,  51000, 150000,  35100,  90000,  22000,\n",
       "       110000,  45000, 180000,  50000, 137000,  68500,  57646,  27000,\n",
       "        57000, 103000,  63000,  55250,  20000,  52000,  83000,  55000,\n",
       "       115000,  50000,  65000,  44638,  60000,  35000,  50000,  56400,\n",
       "        53000,  60000, 100000,  90000,  75000,  50000, 105000,  48000,\n",
       "        46000,  45000, 125000,  80000,  42000, 100000,  63000, 184000,\n",
       "       155000,  45000,  44000,  50000,  48000,  21000,  40000,  31200,\n",
       "        45000, 105000,  45000,  60000, 140000, 116000, 134500,  90000,\n",
       "        49000,  24000,  48000,  68000,  89000,  78000, 175000,  55000,\n",
       "        55000, 145000,  75000,  70000,  50000,  53000,  35000,  45000,\n",
       "        70000,  42000,  45000,  75000,  64000,  97000,  48000,  60000,\n",
       "        80160,  57000,  50000,  48000, 100000,  62000, 115000,  53600,\n",
       "        45000,  90000,  71500,  53000,  68500,  62000,  52000,  56000,\n",
       "        96430,  42000, 100000,  45000,  33000, 150000, 109000, 110000,\n",
       "        95000,  45000,  42000,  11592,  80000,  32000,  50000,  45000,\n",
       "       110000,  45500,  83000,  58000,  55000,  48000,  78000,  46000,\n",
       "        65000,  49000, 119000,  96000,  67000,  66000,  50000,  39000,\n",
       "        64000, 114000, 121000,  34553,  36000,  23000,  98000,  65000,\n",
       "        83356,  39000,  60000, 139000,  70000,  36554,  50000,  53000,\n",
       "        50000,  95000,  40000,  75000,  45689,  44750, 116000,  52384,\n",
       "        70000,  55000,  75000,  50000,  97500,  60000, 113000,  56700,\n",
       "        92400,  42016,  82000,  48000,  44500,  28000,  32800,  28000,\n",
       "        90000, 115000,  65000, 109978,  43940,  65600,  97200,  85000,\n",
       "        50000,  66000,  61000,  42000, 150000, 113000,  74000,  41400,\n",
       "       101000,  70000,  70000, 114000,  50000, 178000,  57000,  50000,\n",
       "        20000,  80000,  47400, 120000,  50000,  41000,  75000,  70000,\n",
       "        60000, 112000, 120000,  80000, 116000, 120000,  43000,  60000,\n",
       "       100000, 141000,  35000,  50000,  40000,  81000,  88518,  66000,\n",
       "        59000, 110000,  52000,  68000,  85000,  78000, 117000,  48000,\n",
       "        50000,  55000,  60000,  65000,  82200,  40000,  67200,  70000,\n",
       "        65750,  80000,  60000,  40000,  35400,  95000,  41000,  28620,\n",
       "       150000,  45000,  54000, 140000,  49200,  43000,  89500,  88000,\n",
       "        62500,  18000,  83000,  78000,  72000, 110000, 170000,  35000,\n",
       "        28720,  40000, 155000,  50000,  76080,  93991,  30000,  45000,\n",
       "        94800,  52000,  75000, 105000,  47352,  84000,  80000,  70000,\n",
       "        44160,  68670,  54000,  32500,  90000, 130000,  43200,  87713,\n",
       "       104000, 143150, 105690,  80000,  80000,  70000,  99120,  52000,\n",
       "        56000,  72000,  60277,  32000,  30000,  42000,  25000,  42000,\n",
       "        72168,  85000,  52000,  50000,  89500,  95000,  41000,  47000,\n",
       "        92000,  55000,  57000, 115000, 110000,  31417, 125000,  50000,\n",
       "        39000,  98000,  60000, 115000,  65000,  42000, 100000,  55000,\n",
       "        62908,  40000,  68000, 150000,  70000,  73400,  81500,  60000,\n",
       "        40000,  38000,  46000,  50000, 125000,  27163,  55000,  90000,\n",
       "        67000, 186000,  75000, 115000,  60000,  65000,  48000,  60000,\n",
       "        42000,  95000, 130000, 129268,  76000,  38400, 161000,  67000,\n",
       "       178000, 115000,  40000,  85000,  74872,  60000,  41600,  47000,\n",
       "        60000, 135000,  45000, 102000, 112000,  72000,  34000,  53893,\n",
       "        74400,  97500,  53000,  19200,  85000, 100000,  49380, 130000,\n",
       "        62000,  33000,  64000,  86854, 122000,  83000,  79000,  62000,\n",
       "        58000,  25000,  53249,  65000,  40000,  43000,  60000, 115000,\n",
       "        42000,  65000, 103000,  42511,  87650,  31000,  75000,  95000,\n",
       "        52000,  43408,  75000,  47000,  37800,  45000,  52000,  77000,\n",
       "        70000,  63924,  48000,  85000, 130000,  72000,  63000,  70000,\n",
       "        90000,  90000,  60000,  50000,  12000,  38987,  50000,  55000,\n",
       "        80000,  80000,  65000,  60000,  50600,  50000,  75000,  24000,\n",
       "        26000,  75000,  47000,  65000,  89375,  87000,  90000, 106000,\n",
       "        52000,  87924,  82000,  45000,  90000,  99000,  46000, 100000,\n",
       "        59000,  32445,  38000,  54586,  38000,  45000,  33975,  42000,\n",
       "        75000,  65000,  68000,  83543,  48000,  26000,  56000,  40000,\n",
       "        48000, 120000,  34500,  70000,  35000,  72000,  92000,  30000,\n",
       "        55000,  54433,  45668, 156776,  80000,  44000, 150000, 145000,\n",
       "        48000,  50412,  37000,  43000,  75000,  41000,  62500,  66800,\n",
       "       111000, 150000, 100000,  60000,  45312,  36000,  20000, 147000,\n",
       "        85000,  65000, 175000,  45000,  67000,  55000, 153000,  96000,\n",
       "        38000, 150000,  20000,  96000,  45000,  44000,  40000,  60000,\n",
       "        82000,  89450,  55000,  91000,  30000,  35000,  65000,  21120,\n",
       "       103000,  47000,  92151,  76500,  56000,  31000,  50000,  46000,\n",
       "        32000,  56000,  84000,  65000,  41000, 110000,  94000,  31000,\n",
       "       108000, 130000,  65000,  56000,  55608,  52887,  70000,  75000,\n",
       "        45000,  55000,  50000,  83000,  48000,  70000,  85000,  32000,\n",
       "        63000, 104000,  35000, 184600,  43000,  55000,  65000, 110000,\n",
       "        72000,  78000,  70000,  25000, 105000,  82300,  90000,  40000,\n",
       "        24000,  68000,  31000,  70366, 125000,  55000,  87400,  68000,\n",
       "       110000,  66000,  42000,  60000,  45000, 100000,  32000, 112545,\n",
       "        86800,  80000,  85000,  58000,  37054,  45000,  45000,  42000,\n",
       "        50000,  54000,  53000,  51000,  72000,  65000,  35000,  75000,\n",
       "        30084,  40344, 123000,  88224,  75000,  65000,  65000,  80000,\n",
       "        75000,  36000,  72000, 105000,  29000,  33280,  80000,  95000,\n",
       "        29000, 175000,  62000, 118560,  42000,  35000,  48000,  50000,\n",
       "        76000,  98000,  45000,  95000,  85000,  70000,  35000,  45000,\n",
       "        45000, 120000,  96000, 120000, 144000,  38000,  50000,  71000,\n",
       "       120000,  43000,  84000,  59000, 140000, 105000,  98000,  32000,\n",
       "        85200,  40000,  47000,  87000,  65000,  27985,  43000,  80000,\n",
       "        40000,  45504,  46000,  88000,  36000,  90000,  54720,  45000,\n",
       "        47600,  22000,  56000,  77000,  38000,  28269,  58000,  77000,\n",
       "        50000,  72000,  50000, 180000,  70000,  28000,  83000,  28500,\n",
       "        43000,  63000,  50000,  45000,  55000,  40000,  65000,  62000,\n",
       "        69160,  60000,  77700,  36000,  55000,  59300,  46000,  65000,\n",
       "        86000,  78000,  82000,  75000,  50000, 100000,  26000,  68567,\n",
       "       110000, 152000,  75000, 147000,  68000,  25000,  60000,  61000,\n",
       "        90000,  25064, 117864, 100000,  70000,  32004, 111000, 103000,\n",
       "        82400, 190000, 105000,  35000,  85000,  45000,  62000,  56000,\n",
       "        75000,  70000,  80000,  47000,  76000,  60000,  72800,  99000,\n",
       "        40000,  90000,  42000,  53000,  70000, 122000,  80000,  75000,\n",
       "       100000,  90000,  75000,  74000,  58000,  54000, 110000,  35000,\n",
       "        50000,  60000,  34000,  40000,  54000,  35000,  42000,  30160,\n",
       "        73420,  41000,  60000,  42000,  70000,  84000,  38496,  61000,\n",
       "        86000,  25000,  53000,  60000,  65000,  50000,  45000,  46000,\n",
       "        45000, 180000,  28500,  55000,  89000,  65000,  48000,  45600,\n",
       "        38000,  41000,  43738, 125000,  50000,  75000,  67000,  75000,\n",
       "        51000,  55000,  92000,  53000,  45000, 117600,  36000,  45000,\n",
       "       110000,  53000,  45000,  45700,  30000,  24000,  98000,  72000,\n",
       "        72000,  95000,  85000, 103000,  62912,  67000,  37500,  50000,\n",
       "        52276,  89000,  62000,  67000,  27000,  63600,  49000,  59360,\n",
       "        70000,  60000,  43000,  56000,  41000, 128000,  30000,  25000,\n",
       "        67000,  96800,  55000,  42000,  40000,  39000,  37500,  48000,\n",
       "        65000,  80000,  65000,  45000,  22875,  69700,  59650,  80000,\n",
       "        43000,  50004, 157000,  68000,  45000,  95000,  32000,  45000,\n",
       "        80000,  50000,  84000,  60000,  50000,  40500,  62500,  37978,\n",
       "        32000,  50000,  80000,  81000,  33000,  94000,  30000,  65000,\n",
       "       128000, 160000, 110000,  62000,  90550,  42000,  45000,  71000,\n",
       "        65000,  45000,  90996,  78000,  15600,  65000,  81000,  66000,\n",
       "        53500,  35000,  52000,  90000, 115000,  76000,  54000, 100000,\n",
       "        73000,  39243,  50000, 165000,  62500, 109000,  67500,  90000,\n",
       "       150000,  35000,  57450,  55000,  60000,  50000,  45000,  50000,\n",
       "       122000,  13200,  47000,  49000,  45000,  70000,  65000,  70000,\n",
       "        40000, 183000,  54500,  60500, 100000,  63000, 165000,  32000,\n",
       "        95000, 121000,  46575,  51000,  54000,  68000, 144854,  52000,\n",
       "        54235,  37000,  36000,  40000, 138000,  72000,  88000,  45000,\n",
       "        70000,  41100,  83000,  30200, 138082,  41587,  45300,  26000,\n",
       "        65000, 103000,  41000,  24000,  75000,  73000,  77000,  35000,\n",
       "        71500, 175000,  40000, 170000, 110000,  76000,  62000,  65888,\n",
       "       107000,  60000,  69000,  43000,  70000,  30000,  95000,  82000],\n",
       "      dtype=int64)"
      ]
     },
     "execution_count": 16,
     "metadata": {},
     "output_type": "execute_result"
    }
   ],
   "source": [
    "loans_income.sample(1000)['x'].values"
   ]
  },
  {
   "cell_type": "code",
   "execution_count": 17,
   "id": "ba01f7c0",
   "metadata": {},
   "outputs": [],
   "source": [
    "sample_data = pd.DataFrame({\n",
    " 'income': loans_income.sample(1000)['x'].values,\n",
    " 'type': 'Data',\n",
    "})\n"
   ]
  },
  {
   "cell_type": "code",
   "execution_count": 18,
   "id": "81e11337",
   "metadata": {},
   "outputs": [
    {
     "data": {
      "text/html": [
       "<div>\n",
       "<style scoped>\n",
       "    .dataframe tbody tr th:only-of-type {\n",
       "        vertical-align: middle;\n",
       "    }\n",
       "\n",
       "    .dataframe tbody tr th {\n",
       "        vertical-align: top;\n",
       "    }\n",
       "\n",
       "    .dataframe thead th {\n",
       "        text-align: right;\n",
       "    }\n",
       "</style>\n",
       "<table border=\"1\" class=\"dataframe\">\n",
       "  <thead>\n",
       "    <tr style=\"text-align: right;\">\n",
       "      <th></th>\n",
       "      <th>income</th>\n",
       "      <th>type</th>\n",
       "    </tr>\n",
       "  </thead>\n",
       "  <tbody>\n",
       "    <tr>\n",
       "      <th>0</th>\n",
       "      <td>55000</td>\n",
       "      <td>Data</td>\n",
       "    </tr>\n",
       "    <tr>\n",
       "      <th>1</th>\n",
       "      <td>40000</td>\n",
       "      <td>Data</td>\n",
       "    </tr>\n",
       "    <tr>\n",
       "      <th>2</th>\n",
       "      <td>47000</td>\n",
       "      <td>Data</td>\n",
       "    </tr>\n",
       "    <tr>\n",
       "      <th>3</th>\n",
       "      <td>82156</td>\n",
       "      <td>Data</td>\n",
       "    </tr>\n",
       "    <tr>\n",
       "      <th>4</th>\n",
       "      <td>88000</td>\n",
       "      <td>Data</td>\n",
       "    </tr>\n",
       "  </tbody>\n",
       "</table>\n",
       "</div>"
      ],
      "text/plain": [
       "   income  type\n",
       "0   55000  Data\n",
       "1   40000  Data\n",
       "2   47000  Data\n",
       "3   82156  Data\n",
       "4   88000  Data"
      ]
     },
     "execution_count": 18,
     "metadata": {},
     "output_type": "execute_result"
    }
   ],
   "source": [
    "sample_data.head()"
   ]
  },
  {
   "cell_type": "code",
   "execution_count": 29,
   "id": "81f7b8ea",
   "metadata": {},
   "outputs": [],
   "source": [
    "sample_mean_05 = pd.DataFrame({\n",
    " 'income': [loans_income.sample(5).mean().values[0] for _ in range(1000)],\n",
    " 'type': 'Mean of 5',\n",
    "})"
   ]
  },
  {
   "cell_type": "code",
   "execution_count": 30,
   "id": "424ede34",
   "metadata": {},
   "outputs": [
    {
     "data": {
      "text/plain": [
       "array([57100.])"
      ]
     },
     "execution_count": 30,
     "metadata": {},
     "output_type": "execute_result"
    }
   ],
   "source": [
    "loans_income.sample(5).mean().values"
   ]
  },
  {
   "cell_type": "code",
   "execution_count": 31,
   "id": "cb8818fd",
   "metadata": {},
   "outputs": [
    {
     "data": {
      "text/html": [
       "<div>\n",
       "<style scoped>\n",
       "    .dataframe tbody tr th:only-of-type {\n",
       "        vertical-align: middle;\n",
       "    }\n",
       "\n",
       "    .dataframe tbody tr th {\n",
       "        vertical-align: top;\n",
       "    }\n",
       "\n",
       "    .dataframe thead th {\n",
       "        text-align: right;\n",
       "    }\n",
       "</style>\n",
       "<table border=\"1\" class=\"dataframe\">\n",
       "  <thead>\n",
       "    <tr style=\"text-align: right;\">\n",
       "      <th></th>\n",
       "      <th>income</th>\n",
       "      <th>type</th>\n",
       "    </tr>\n",
       "  </thead>\n",
       "  <tbody>\n",
       "    <tr>\n",
       "      <th>0</th>\n",
       "      <td>70476.0</td>\n",
       "      <td>Mean of 5</td>\n",
       "    </tr>\n",
       "    <tr>\n",
       "      <th>1</th>\n",
       "      <td>75400.0</td>\n",
       "      <td>Mean of 5</td>\n",
       "    </tr>\n",
       "    <tr>\n",
       "      <th>2</th>\n",
       "      <td>65200.0</td>\n",
       "      <td>Mean of 5</td>\n",
       "    </tr>\n",
       "    <tr>\n",
       "      <th>3</th>\n",
       "      <td>79298.6</td>\n",
       "      <td>Mean of 5</td>\n",
       "    </tr>\n",
       "    <tr>\n",
       "      <th>4</th>\n",
       "      <td>80898.0</td>\n",
       "      <td>Mean of 5</td>\n",
       "    </tr>\n",
       "  </tbody>\n",
       "</table>\n",
       "</div>"
      ],
      "text/plain": [
       "    income       type\n",
       "0  70476.0  Mean of 5\n",
       "1  75400.0  Mean of 5\n",
       "2  65200.0  Mean of 5\n",
       "3  79298.6  Mean of 5\n",
       "4  80898.0  Mean of 5"
      ]
     },
     "execution_count": 31,
     "metadata": {},
     "output_type": "execute_result"
    }
   ],
   "source": [
    "sample_mean_05.head()"
   ]
  },
  {
   "cell_type": "code",
   "execution_count": 32,
   "id": "429c60fc",
   "metadata": {},
   "outputs": [],
   "source": [
    "sample_mean_20 = pd.DataFrame({\n",
    " 'income': [loans_income.sample(20).mean().values[0] for _ in range(1000)],\n",
    " 'type': 'Mean of 20',\n",
    "})\n"
   ]
  },
  {
   "cell_type": "code",
   "execution_count": 33,
   "id": "60f429de",
   "metadata": {},
   "outputs": [
    {
     "data": {
      "text/html": [
       "<div>\n",
       "<style scoped>\n",
       "    .dataframe tbody tr th:only-of-type {\n",
       "        vertical-align: middle;\n",
       "    }\n",
       "\n",
       "    .dataframe tbody tr th {\n",
       "        vertical-align: top;\n",
       "    }\n",
       "\n",
       "    .dataframe thead th {\n",
       "        text-align: right;\n",
       "    }\n",
       "</style>\n",
       "<table border=\"1\" class=\"dataframe\">\n",
       "  <thead>\n",
       "    <tr style=\"text-align: right;\">\n",
       "      <th></th>\n",
       "      <th>income</th>\n",
       "      <th>type</th>\n",
       "    </tr>\n",
       "  </thead>\n",
       "  <tbody>\n",
       "    <tr>\n",
       "      <th>0</th>\n",
       "      <td>65683.00</td>\n",
       "      <td>Mean of 20</td>\n",
       "    </tr>\n",
       "    <tr>\n",
       "      <th>1</th>\n",
       "      <td>67054.50</td>\n",
       "      <td>Mean of 20</td>\n",
       "    </tr>\n",
       "    <tr>\n",
       "      <th>2</th>\n",
       "      <td>73665.00</td>\n",
       "      <td>Mean of 20</td>\n",
       "    </tr>\n",
       "    <tr>\n",
       "      <th>3</th>\n",
       "      <td>60710.70</td>\n",
       "      <td>Mean of 20</td>\n",
       "    </tr>\n",
       "    <tr>\n",
       "      <th>4</th>\n",
       "      <td>68876.75</td>\n",
       "      <td>Mean of 20</td>\n",
       "    </tr>\n",
       "  </tbody>\n",
       "</table>\n",
       "</div>"
      ],
      "text/plain": [
       "     income        type\n",
       "0  65683.00  Mean of 20\n",
       "1  67054.50  Mean of 20\n",
       "2  73665.00  Mean of 20\n",
       "3  60710.70  Mean of 20\n",
       "4  68876.75  Mean of 20"
      ]
     },
     "execution_count": 33,
     "metadata": {},
     "output_type": "execute_result"
    }
   ],
   "source": [
    "sample_mean_20.head()"
   ]
  },
  {
   "cell_type": "code",
   "execution_count": 34,
   "id": "c051e3b0",
   "metadata": {},
   "outputs": [],
   "source": [
    "results = pd.concat([sample_data, sample_mean_05, sample_mean_20])\n"
   ]
  },
  {
   "cell_type": "code",
   "execution_count": 35,
   "id": "404b263e",
   "metadata": {},
   "outputs": [
    {
     "data": {
      "text/html": [
       "<div>\n",
       "<style scoped>\n",
       "    .dataframe tbody tr th:only-of-type {\n",
       "        vertical-align: middle;\n",
       "    }\n",
       "\n",
       "    .dataframe tbody tr th {\n",
       "        vertical-align: top;\n",
       "    }\n",
       "\n",
       "    .dataframe thead th {\n",
       "        text-align: right;\n",
       "    }\n",
       "</style>\n",
       "<table border=\"1\" class=\"dataframe\">\n",
       "  <thead>\n",
       "    <tr style=\"text-align: right;\">\n",
       "      <th></th>\n",
       "      <th>income</th>\n",
       "      <th>type</th>\n",
       "    </tr>\n",
       "  </thead>\n",
       "  <tbody>\n",
       "    <tr>\n",
       "      <th>0</th>\n",
       "      <td>55000.0</td>\n",
       "      <td>Data</td>\n",
       "    </tr>\n",
       "    <tr>\n",
       "      <th>1</th>\n",
       "      <td>40000.0</td>\n",
       "      <td>Data</td>\n",
       "    </tr>\n",
       "    <tr>\n",
       "      <th>2</th>\n",
       "      <td>47000.0</td>\n",
       "      <td>Data</td>\n",
       "    </tr>\n",
       "    <tr>\n",
       "      <th>3</th>\n",
       "      <td>82156.0</td>\n",
       "      <td>Data</td>\n",
       "    </tr>\n",
       "    <tr>\n",
       "      <th>4</th>\n",
       "      <td>88000.0</td>\n",
       "      <td>Data</td>\n",
       "    </tr>\n",
       "    <tr>\n",
       "      <th>...</th>\n",
       "      <td>...</td>\n",
       "      <td>...</td>\n",
       "    </tr>\n",
       "    <tr>\n",
       "      <th>995</th>\n",
       "      <td>75807.7</td>\n",
       "      <td>Mean of 20</td>\n",
       "    </tr>\n",
       "    <tr>\n",
       "      <th>996</th>\n",
       "      <td>69616.2</td>\n",
       "      <td>Mean of 20</td>\n",
       "    </tr>\n",
       "    <tr>\n",
       "      <th>997</th>\n",
       "      <td>63802.8</td>\n",
       "      <td>Mean of 20</td>\n",
       "    </tr>\n",
       "    <tr>\n",
       "      <th>998</th>\n",
       "      <td>80195.0</td>\n",
       "      <td>Mean of 20</td>\n",
       "    </tr>\n",
       "    <tr>\n",
       "      <th>999</th>\n",
       "      <td>64204.2</td>\n",
       "      <td>Mean of 20</td>\n",
       "    </tr>\n",
       "  </tbody>\n",
       "</table>\n",
       "<p>3000 rows × 2 columns</p>\n",
       "</div>"
      ],
      "text/plain": [
       "      income        type\n",
       "0    55000.0        Data\n",
       "1    40000.0        Data\n",
       "2    47000.0        Data\n",
       "3    82156.0        Data\n",
       "4    88000.0        Data\n",
       "..       ...         ...\n",
       "995  75807.7  Mean of 20\n",
       "996  69616.2  Mean of 20\n",
       "997  63802.8  Mean of 20\n",
       "998  80195.0  Mean of 20\n",
       "999  64204.2  Mean of 20\n",
       "\n",
       "[3000 rows x 2 columns]"
      ]
     },
     "execution_count": 35,
     "metadata": {},
     "output_type": "execute_result"
    }
   ],
   "source": [
    "results"
   ]
  },
  {
   "cell_type": "code",
   "execution_count": 45,
   "id": "2a35963f",
   "metadata": {},
   "outputs": [
    {
     "data": {
      "text/plain": [
       "<seaborn.axisgrid.FacetGrid at 0x175a4882820>"
      ]
     },
     "execution_count": 45,
     "metadata": {},
     "output_type": "execute_result"
    },
    {
     "data": {
      "image/png": "[encoded data removed]",
      "text/plain": [
       "<Figure size 432x648 with 3 Axes>"
      ]
     },
     "metadata": {
      "needs_background": "light"
     },
     "output_type": "display_data"
    }
   ],
   "source": [
    "g = sns.FacetGrid(results, col='type', col_wrap=1, height=3, aspect=2)\n",
    "g.map(plt.hist, 'income', range=[0, 200000], bins=40)\n",
    "g.set_axis_labels('Income', 'Count')\n",
    "g.set_titles('{col_name}')"
   ]
  },
  {
   "cell_type": "code",
   "execution_count": null,
   "id": "8315df3f",
   "metadata": {},
   "outputs": [],
   "source": []
  }
 ],
 "metadata": {
  "kernelspec": {
   "display_name": "Python 3 (ipykernel)",
   "language": "python",
   "name": "python3"
  },
  "language_info": {
   "codemirror_mode": {
    "name": "ipython",
    "version": 3
   },
   "file_extension": ".py",
   "mimetype": "text/x-python",
   "name": "python",
   "nbconvert_exporter": "python",
   "pygments_lexer": "ipython3",
   "version": "3.9.7"
  }
 },
 "nbformat": 4,
 "nbformat_minor": 5
}
