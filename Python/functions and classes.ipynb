{
 "cells": [
  {
   "cell_type": "markdown",
   "id": "6934332c",
   "metadata": {},
   "source": [
    "# 1. Functions\n",
    "- function `f(x)` then `x` is called a parameter, just like variable. A concrete value is called an argument."
   ]
  },
  {
   "cell_type": "code",
   "execution_count": 3,
   "id": "491decaf",
   "metadata": {},
   "outputs": [],
   "source": [
    "def greet_user(username):\n",
    " \"\"\"Display a simple greeting.\"\"\"\n",
    " print(\"Hello, \" + username.title() + \"!\")"
   ]
  },
  {
   "cell_type": "code",
   "execution_count": 4,
   "id": "356f5dda",
   "metadata": {},
   "outputs": [
    {
     "name": "stdout",
     "output_type": "stream",
     "text": [
      "Hello, Jesse!\n"
     ]
    }
   ],
   "source": [
    "greet_user('jesse')"
   ]
  },
  {
   "cell_type": "code",
   "execution_count": 5,
   "id": "e415acbc",
   "metadata": {},
   "outputs": [
    {
     "data": {
      "text/plain": [
       "'Jesse'"
      ]
     },
     "execution_count": 5,
     "metadata": {},
     "output_type": "execute_result"
    }
   ],
   "source": [
    "'jesse'.title()"
   ]
  },
  {
   "cell_type": "code",
   "execution_count": 6,
   "id": "934e5e40",
   "metadata": {},
   "outputs": [
    {
     "data": {
      "text/plain": [
       "'Jesse'"
      ]
     },
     "execution_count": 6,
     "metadata": {},
     "output_type": "execute_result"
    }
   ],
   "source": [
    "'jesse'.capitalize()"
   ]
  },
  {
   "cell_type": "code",
   "execution_count": 8,
   "id": "fd618d44",
   "metadata": {},
   "outputs": [],
   "source": [
    "def make_shirt(size= 'large', text= 'I love Python'):\n",
    "    print(\"\\nThis shirt's size is \"+size)\n",
    "    print(text)"
   ]
  },
  {
   "cell_type": "code",
   "execution_count": 9,
   "id": "dcd392aa",
   "metadata": {},
   "outputs": [
    {
     "name": "stdout",
     "output_type": "stream",
     "text": [
      "\n",
      "This shirt's size is large\n",
      "I love Python\n"
     ]
    }
   ],
   "source": [
    "make_shirt()"
   ]
  },
  {
   "cell_type": "code",
   "execution_count": 37,
   "id": "57051c50",
   "metadata": {},
   "outputs": [
    {
     "name": "stdout",
     "output_type": "stream",
     "text": [
      "\n",
      "This shirt's size is medium\n",
      "met me\n"
     ]
    }
   ],
   "source": [
    "make_shirt('medium',text='met me')"
   ]
  },
  {
   "cell_type": "markdown",
   "id": "5fceaf8e",
   "metadata": {},
   "source": [
    "#### two types of arguments: positional and keyword arguments\n",
    "\n",
    "- positional: just write\n",
    "- kwargs: need to specify, e.g. `text = 'met me'`"
   ]
  },
  {
   "cell_type": "markdown",
   "id": "f5a65b22",
   "metadata": {},
   "source": [
    "## a. Functions with infinite arguments\n",
    "- *A, then A is a tuple inside the function"
   ]
  },
  {
   "cell_type": "code",
   "execution_count": 35,
   "id": "65edd11d",
   "metadata": {},
   "outputs": [],
   "source": [
    "def make_pizza(*Zutaten):\n",
    "    print('Wir brauchen die folgenden Zutaten:')\n",
    "    for Zutat in Zutaten:\n",
    "        print(f\"- {Zutat}\")"
   ]
  },
  {
   "cell_type": "code",
   "execution_count": 36,
   "id": "19bcb598",
   "metadata": {},
   "outputs": [
    {
     "name": "stdout",
     "output_type": "stream",
     "text": [
      "Wir brauchen die folgenden Zutaten:\n",
      "- fisch\n",
      "- crawfisch\n",
      "- cua hoang de\n"
     ]
    }
   ],
   "source": [
    "make_pizza('fisch','crawfisch','cua hoang de')"
   ]
  },
  {
   "cell_type": "markdown",
   "id": "e90c8592",
   "metadata": {},
   "source": [
    "## b. Functions with infinite kwargs:\n",
    "- **A, then A is a dictionary inside the function"
   ]
  },
  {
   "cell_type": "code",
   "execution_count": 38,
   "id": "6bba5d61",
   "metadata": {},
   "outputs": [],
   "source": [
    "def make_car(manufacture, model_name,**others):\n",
    "    info = dict()\n",
    "    info['manufacture']=manufacture\n",
    "    info['model name']= model_name\n",
    "    for key,value in others.items():\n",
    "        info[key] = value\n",
    "    return info"
   ]
  },
  {
   "cell_type": "code",
   "execution_count": 40,
   "id": "ad4d6f8d",
   "metadata": {},
   "outputs": [
    {
     "data": {
      "text/plain": [
       "{'manufacture': 'subaru',\n",
       " 'model name': 'outback',\n",
       " 'color': 'blue',\n",
       " 'tow_package': True}"
      ]
     },
     "execution_count": 40,
     "metadata": {},
     "output_type": "execute_result"
    }
   ],
   "source": [
    "make_car('subaru', 'outback', color='blue', tow_package=True)"
   ]
  },
  {
   "cell_type": "markdown",
   "id": "f79fc5d3",
   "metadata": {},
   "source": [
    "## c. Order of functions when calling\n",
    "- we don't need oder! Interesting\n"
   ]
  },
  {
   "cell_type": "code",
   "execution_count": 41,
   "id": "1b6966f9",
   "metadata": {},
   "outputs": [],
   "source": [
    "def f1(x):\n",
    "    return x+1"
   ]
  },
  {
   "cell_type": "code",
   "execution_count": 43,
   "id": "775b922c",
   "metadata": {},
   "outputs": [],
   "source": [
    "def f2(x):\n",
    "    return f1(x)*2"
   ]
  },
  {
   "cell_type": "code",
   "execution_count": 44,
   "id": "545a5d3b",
   "metadata": {},
   "outputs": [
    {
     "data": {
      "text/plain": [
       "6"
      ]
     },
     "execution_count": 44,
     "metadata": {},
     "output_type": "execute_result"
    }
   ],
   "source": [
    "f2(2)"
   ]
  },
  {
   "cell_type": "code",
   "execution_count": 1,
   "id": "1183cc48",
   "metadata": {},
   "outputs": [],
   "source": [
    "def f3(x):\n",
    "    return f4(x)-1"
   ]
  },
  {
   "cell_type": "code",
   "execution_count": 2,
   "id": "9b9395aa",
   "metadata": {},
   "outputs": [],
   "source": [
    "def f4(x):\n",
    "    return x**2"
   ]
  },
  {
   "cell_type": "code",
   "execution_count": 3,
   "id": "8cbb9ef7",
   "metadata": {},
   "outputs": [
    {
     "data": {
      "text/plain": [
       "24"
      ]
     },
     "execution_count": 3,
     "metadata": {},
     "output_type": "execute_result"
    }
   ],
   "source": [
    "f3(5)"
   ]
  },
  {
   "cell_type": "markdown",
   "id": "22418239",
   "metadata": {},
   "source": [
    "# 2. Classes\n",
    "- `self` is just a variable, we can use other name for it\n",
    "- `self.name1` is also a variable, we can change name to e.g. `self.myname` or `self.name` and then in \n",
    "`__init__` first line becomes `self.myname = name`. Later to get the attributes, we muss call\n",
    "`self.name1`"
   ]
  },
  {
   "cell_type": "code",
   "execution_count": 39,
   "id": "fcdd0d31",
   "metadata": {},
   "outputs": [],
   "source": [
    "class Dog():\n",
    "    \"\"\"A simple attempt to model a dog.\"\"\" \n",
    "    \n",
    " \n",
    "    def __init__(self, name, age): # later we just need to pass in `name` and `age` - like the arguments in functions\n",
    "        \"\"\"Initialize name and age attributes.\"\"\"\n",
    "        self.name1 = name\n",
    "        self.age1 = age\n",
    "    \n",
    " \n",
    "    def sit(self):\n",
    "        \"\"\"Simulate a dog sitting in response to a command.\"\"\"\n",
    "        print(self.name1.title() + \" is now sitting.\")\n",
    "    \n",
    "    \n",
    "    def roll_over(self):\n",
    "        \"\"\"Simulate rolling over in response to a command.\"\"\"\n",
    "        print(self.name1.title() + \" rolled over!\")\n"
   ]
  },
  {
   "cell_type": "code",
   "execution_count": 40,
   "id": "31828358",
   "metadata": {},
   "outputs": [],
   "source": [
    "a=Dog('abcde',15)"
   ]
  },
  {
   "cell_type": "code",
   "execution_count": 41,
   "id": "32d55390",
   "metadata": {},
   "outputs": [
    {
     "name": "stdout",
     "output_type": "stream",
     "text": [
      "Abcde is now sitting.\n"
     ]
    }
   ],
   "source": [
    "a.sit()"
   ]
  },
  {
   "cell_type": "code",
   "execution_count": 42,
   "id": "d05f0935",
   "metadata": {},
   "outputs": [
    {
     "name": "stdout",
     "output_type": "stream",
     "text": [
      "Abcde rolled over!\n"
     ]
    }
   ],
   "source": [
    "a.roll_over()"
   ]
  },
  {
   "cell_type": "code",
   "execution_count": 44,
   "id": "2d92845a",
   "metadata": {},
   "outputs": [
    {
     "data": {
      "text/plain": [
       "'abcde'"
      ]
     },
     "execution_count": 44,
     "metadata": {},
     "output_type": "execute_result"
    }
   ],
   "source": [
    "a.name1"
   ]
  },
  {
   "cell_type": "code",
   "execution_count": 46,
   "id": "a4058467",
   "metadata": {},
   "outputs": [
    {
     "data": {
      "text/plain": [
       "15"
      ]
     },
     "execution_count": 46,
     "metadata": {},
     "output_type": "execute_result"
    }
   ],
   "source": [
    "a.age1"
   ]
  },
  {
   "cell_type": "markdown",
   "id": "32ac7def",
   "metadata": {},
   "source": [
    "## 2a. Adding an attribute without declaration as parameter\n",
    "- by giving it a default value"
   ]
  },
  {
   "cell_type": "code",
   "execution_count": 59,
   "id": "6a1a2f55",
   "metadata": {},
   "outputs": [],
   "source": [
    "class Car():\n",
    "    def __init__(self, name, age):\n",
    "        self.name = name\n",
    "        self.age = age\n",
    "        self.ku = 10\n",
    "    \n",
    "    #def itsku(x):\n",
    "        #return x.ku * 2\n",
    "        \n",
    "    # for more readable\n",
    "    def itsku(self):\n",
    "        return self.ku *2"
   ]
  },
  {
   "cell_type": "code",
   "execution_count": 60,
   "id": "fd8ad8b8",
   "metadata": {},
   "outputs": [
    {
     "data": {
      "text/plain": [
       "<__main__.Car at 0x251c4835fa0>"
      ]
     },
     "execution_count": 60,
     "metadata": {},
     "output_type": "execute_result"
    }
   ],
   "source": [
    "a= Car(15,12)\n",
    "a"
   ]
  },
  {
   "cell_type": "code",
   "execution_count": 61,
   "id": "77431d6b",
   "metadata": {},
   "outputs": [
    {
     "data": {
      "text/plain": [
       "10"
      ]
     },
     "execution_count": 61,
     "metadata": {},
     "output_type": "execute_result"
    }
   ],
   "source": [
    "a.ku"
   ]
  },
  {
   "cell_type": "code",
   "execution_count": 62,
   "id": "a9286b95",
   "metadata": {},
   "outputs": [
    {
     "data": {
      "text/plain": [
       "20"
      ]
     },
     "execution_count": 62,
     "metadata": {},
     "output_type": "execute_result"
    }
   ],
   "source": [
    "a.itsku()"
   ]
  },
  {
   "cell_type": "markdown",
   "id": "e4c22898",
   "metadata": {},
   "source": [
    "## 2b. Inheritance\n",
    "- add name of parent class in parentheses\n",
    "- use `super().__init__(...only variables in parent class, without self...)`\n",
    "- all functions and attributes are inherited, **including the hidding attributes**, which are not present as parameters"
   ]
  },
  {
   "cell_type": "code",
   "execution_count": 63,
   "id": "4ce13929",
   "metadata": {},
   "outputs": [],
   "source": [
    "class Car():\n",
    "    def __init__(self,name,model):\n",
    "        self.name = name\n",
    "        self.model = model\n",
    "        self.length = 12"
   ]
  },
  {
   "cell_type": "code",
   "execution_count": 64,
   "id": "252ed60a",
   "metadata": {},
   "outputs": [],
   "source": [
    "class Electric_car(Car):\n",
    "    def __init__(self,name,model):\n",
    "        super().__init__(name,model)"
   ]
  },
  {
   "cell_type": "code",
   "execution_count": 66,
   "id": "a2d0bf06",
   "metadata": {},
   "outputs": [
    {
     "data": {
      "text/plain": [
       "<__main__.Car at 0x251c486af40>"
      ]
     },
     "execution_count": 66,
     "metadata": {},
     "output_type": "execute_result"
    }
   ],
   "source": [
    "a = Car('BMW', 'A21')\n",
    "a"
   ]
  },
  {
   "cell_type": "code",
   "execution_count": 67,
   "id": "2172df26",
   "metadata": {},
   "outputs": [
    {
     "name": "stdout",
     "output_type": "stream",
     "text": [
      "BMW\n",
      "A21\n",
      "12\n"
     ]
    }
   ],
   "source": [
    "print(a.name)\n",
    "print(a.model)\n",
    "print(a.length)"
   ]
  },
  {
   "cell_type": "code",
   "execution_count": 69,
   "id": "72a1544a",
   "metadata": {},
   "outputs": [
    {
     "data": {
      "text/plain": [
       "<__main__.Electric_car at 0x251c48ab100>"
      ]
     },
     "execution_count": 69,
     "metadata": {},
     "output_type": "execute_result"
    }
   ],
   "source": [
    "b = Electric_car('Audi', 'B123')\n",
    "b"
   ]
  },
  {
   "cell_type": "code",
   "execution_count": 70,
   "id": "7903f9ff",
   "metadata": {},
   "outputs": [
    {
     "name": "stdout",
     "output_type": "stream",
     "text": [
      "Audi\n",
      "B123\n"
     ]
    }
   ],
   "source": [
    "print(b.name)\n",
    "print(b.model)"
   ]
  },
  {
   "cell_type": "code",
   "execution_count": 72,
   "id": "8c77f9bd",
   "metadata": {},
   "outputs": [
    {
     "data": {
      "text/plain": [
       "12"
      ]
     },
     "execution_count": 72,
     "metadata": {},
     "output_type": "execute_result"
    }
   ],
   "source": [
    "# b has also attribute `length`\n",
    "b.length"
   ]
  },
  {
   "cell_type": "markdown",
   "id": "9e926a7f",
   "metadata": {},
   "source": [
    "- question: how to add child class's own attribute? ---> use attribute with default value, very simple!\n",
    "- if in the child class there is a function of the same name as in the parent class, then when we call an object from the child class, this function is override with priority on the child class, i.e forget this function on parent class.\n",
    "- we can add an attribute as an object from other class. This object is then an attribute of the current class:\n",
    "`self.new_attribute = OtherClass(...some variables...)`\n",
    "- unlike functions, in Classes, if we need references from a specific class, this class must be predefined."
   ]
  },
  {
   "cell_type": "code",
   "execution_count": null,
   "id": "90f6d02c",
   "metadata": {},
   "outputs": [],
   "source": []
  }
 ],
 "metadata": {
  "kernelspec": {
   "display_name": "Python 3 (ipykernel)",
   "language": "python",
   "name": "python3"
  },
  "language_info": {
   "codemirror_mode": {
    "name": "ipython",
    "version": 3
   },
   "file_extension": ".py",
   "mimetype": "text/x-python",
   "name": "python",
   "nbconvert_exporter": "python",
   "pygments_lexer": "ipython3",
   "version": "3.9.7"
  }
 },
 "nbformat": 4,
 "nbformat_minor": 5
}
