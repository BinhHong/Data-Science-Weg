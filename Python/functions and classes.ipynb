{
 "cells": [
  {
   "cell_type": "markdown",
   "id": "8ac2c4cc",
   "metadata": {},
   "source": [
    "# 1. Functions"
   ]
  },
  {
   "cell_type": "code",
   "execution_count": 3,
   "id": "63db781a",
   "metadata": {},
   "outputs": [],
   "source": [
    "def greet_user(username):\n",
    " \"\"\"Display a simple greeting.\"\"\"\n",
    " print(\"Hello, \" + username.title() + \"!\")"
   ]
  },
  {
   "cell_type": "code",
   "execution_count": 4,
   "id": "ce4e3dc5",
   "metadata": {},
   "outputs": [
    {
     "name": "stdout",
     "output_type": "stream",
     "text": [
      "Hello, Jesse!\n"
     ]
    }
   ],
   "source": [
    "greet_user('jesse')"
   ]
  },
  {
   "cell_type": "code",
   "execution_count": 5,
   "id": "d604e48d",
   "metadata": {},
   "outputs": [
    {
     "data": {
      "text/plain": [
       "'Jesse'"
      ]
     },
     "execution_count": 5,
     "metadata": {},
     "output_type": "execute_result"
    }
   ],
   "source": [
    "'jesse'.title()"
   ]
  },
  {
   "cell_type": "code",
   "execution_count": 6,
   "id": "eae1d318",
   "metadata": {},
   "outputs": [
    {
     "data": {
      "text/plain": [
       "'Jesse'"
      ]
     },
     "execution_count": 6,
     "metadata": {},
     "output_type": "execute_result"
    }
   ],
   "source": [
    "'jesse'.capitalize()"
   ]
  },
  {
   "cell_type": "code",
   "execution_count": 8,
   "id": "d52f2313",
   "metadata": {},
   "outputs": [],
   "source": [
    "def make_shirt(size= 'large', text= 'I love Python'):\n",
    "    print(\"\\nThis shirt's size is \"+size)\n",
    "    print(text)"
   ]
  },
  {
   "cell_type": "code",
   "execution_count": 9,
   "id": "1e187dc2",
   "metadata": {},
   "outputs": [
    {
     "name": "stdout",
     "output_type": "stream",
     "text": [
      "\n",
      "This shirt's size is large\n",
      "I love Python\n"
     ]
    }
   ],
   "source": [
    "make_shirt()"
   ]
  },
  {
   "cell_type": "markdown",
   "id": "0ff56093",
   "metadata": {},
   "source": [
    "test list pop"
   ]
  },
  {
   "cell_type": "code",
   "execution_count": 10,
   "id": "4920122b",
   "metadata": {},
   "outputs": [],
   "source": [
    "l = [1,2,34,5,56]"
   ]
  },
  {
   "cell_type": "code",
   "execution_count": 11,
   "id": "a28a5eb1",
   "metadata": {},
   "outputs": [
    {
     "data": {
      "text/plain": [
       "56"
      ]
     },
     "execution_count": 11,
     "metadata": {},
     "output_type": "execute_result"
    }
   ],
   "source": [
    "l.pop()"
   ]
  },
  {
   "cell_type": "code",
   "execution_count": 12,
   "id": "fa08516a",
   "metadata": {},
   "outputs": [
    {
     "data": {
      "text/plain": [
       "[1, 2, 34, 5]"
      ]
     },
     "execution_count": 12,
     "metadata": {},
     "output_type": "execute_result"
    }
   ],
   "source": [
    "l"
   ]
  },
  {
   "cell_type": "code",
   "execution_count": 13,
   "id": "c1120e7e",
   "metadata": {},
   "outputs": [],
   "source": [
    "l.clear()"
   ]
  },
  {
   "cell_type": "code",
   "execution_count": 14,
   "id": "8447e243",
   "metadata": {},
   "outputs": [
    {
     "data": {
      "text/plain": [
       "[]"
      ]
     },
     "execution_count": 14,
     "metadata": {},
     "output_type": "execute_result"
    }
   ],
   "source": [
    "l"
   ]
  },
  {
   "cell_type": "code",
   "execution_count": 16,
   "id": "cdc4a913",
   "metadata": {},
   "outputs": [],
   "source": [
    "l = [1,2,34,5,56,1,2,3,2,4]"
   ]
  },
  {
   "cell_type": "code",
   "execution_count": 19,
   "id": "cdb5540b",
   "metadata": {},
   "outputs": [
    {
     "data": {
      "text/plain": [
       "3"
      ]
     },
     "execution_count": 19,
     "metadata": {},
     "output_type": "execute_result"
    }
   ],
   "source": [
    "l.count(2)"
   ]
  },
  {
   "cell_type": "code",
   "execution_count": 21,
   "id": "f2f9d6c7",
   "metadata": {},
   "outputs": [],
   "source": [
    "l2= ('a','b','c')"
   ]
  },
  {
   "cell_type": "code",
   "execution_count": 22,
   "id": "cb1387d1",
   "metadata": {},
   "outputs": [],
   "source": [
    "l.extend(l2)"
   ]
  },
  {
   "cell_type": "code",
   "execution_count": 23,
   "id": "801f2185",
   "metadata": {},
   "outputs": [
    {
     "data": {
      "text/plain": [
       "[1, 2, 34, 5, 56, 1, 2, 3, 2, 4, 'a', 'b', 'c']"
      ]
     },
     "execution_count": 23,
     "metadata": {},
     "output_type": "execute_result"
    }
   ],
   "source": [
    "l"
   ]
  },
  {
   "cell_type": "code",
   "execution_count": 24,
   "id": "65138a0c",
   "metadata": {},
   "outputs": [],
   "source": [
    "l.insert(2,'d')"
   ]
  },
  {
   "cell_type": "code",
   "execution_count": 25,
   "id": "d341aaf2",
   "metadata": {},
   "outputs": [
    {
     "data": {
      "text/plain": [
       "[1, 2, 'd', 34, 5, 56, 1, 2, 3, 2, 4, 'a', 'b', 'c']"
      ]
     },
     "execution_count": 25,
     "metadata": {},
     "output_type": "execute_result"
    }
   ],
   "source": [
    "l"
   ]
  },
  {
   "cell_type": "code",
   "execution_count": 26,
   "id": "08bca722",
   "metadata": {},
   "outputs": [
    {
     "data": {
      "text/plain": [
       "'d'"
      ]
     },
     "execution_count": 26,
     "metadata": {},
     "output_type": "execute_result"
    }
   ],
   "source": [
    "l.pop(2)"
   ]
  },
  {
   "cell_type": "code",
   "execution_count": 27,
   "id": "67a0a292",
   "metadata": {},
   "outputs": [
    {
     "data": {
      "text/plain": [
       "[1, 2, 34, 5, 56, 1, 2, 3, 2, 4, 'a', 'b', 'c']"
      ]
     },
     "execution_count": 27,
     "metadata": {},
     "output_type": "execute_result"
    }
   ],
   "source": [
    "l"
   ]
  },
  {
   "cell_type": "code",
   "execution_count": 28,
   "id": "38110a4f",
   "metadata": {},
   "outputs": [],
   "source": [
    "l.reverse()"
   ]
  },
  {
   "cell_type": "code",
   "execution_count": 29,
   "id": "a5748b2b",
   "metadata": {},
   "outputs": [
    {
     "data": {
      "text/plain": [
       "['c', 'b', 'a', 4, 2, 3, 2, 1, 56, 5, 34, 2, 1]"
      ]
     },
     "execution_count": 29,
     "metadata": {},
     "output_type": "execute_result"
    }
   ],
   "source": [
    "l"
   ]
  },
  {
   "cell_type": "markdown",
   "id": "9de3fd39",
   "metadata": {},
   "source": [
    "# 2. Functions with infinite arguments"
   ]
  },
  {
   "cell_type": "code",
   "execution_count": 35,
   "id": "a496ad88",
   "metadata": {},
   "outputs": [],
   "source": [
    "def make_pizza(*Zutaten):\n",
    "    print('Wir brauchen die folgenden Zutaten:')\n",
    "    for Zutat in Zutaten:\n",
    "        print(f\"- {Zutat}\")"
   ]
  },
  {
   "cell_type": "code",
   "execution_count": 36,
   "id": "ad1d64ee",
   "metadata": {},
   "outputs": [
    {
     "name": "stdout",
     "output_type": "stream",
     "text": [
      "Wir brauchen die folgenden Zutaten:\n",
      "- fisch\n",
      "- crawfisch\n",
      "- cua hoang de\n"
     ]
    }
   ],
   "source": [
    "make_pizza('fisch','crawfisch','cua hoang de')"
   ]
  },
  {
   "cell_type": "code",
   "execution_count": null,
   "id": "de2efb84",
   "metadata": {},
   "outputs": [],
   "source": []
  }
 ],
 "metadata": {
  "kernelspec": {
   "display_name": "Python 3 (ipykernel)",
   "language": "python",
   "name": "python3"
  },
  "language_info": {
   "codemirror_mode": {
    "name": "ipython",
    "version": 3
   },
   "file_extension": ".py",
   "mimetype": "text/x-python",
   "name": "python",
   "nbconvert_exporter": "python",
   "pygments_lexer": "ipython3",
   "version": "3.9.7"
  }
 },
 "nbformat": 4,
 "nbformat_minor": 5
}
