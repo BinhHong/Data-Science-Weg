{
 "cells": [
  {
   "cell_type": "markdown",
   "id": "99c54a23",
   "metadata": {},
   "source": [
    "# 3 ways"
   ]
  },
  {
   "cell_type": "markdown",
   "id": "31f6a283",
   "metadata": {},
   "source": [
    "## I. With built-in Python\n",
    "\n"
   ]
  },
  {
   "cell_type": "code",
   "execution_count": 1,
   "id": "b0fa741b",
   "metadata": {},
   "outputs": [],
   "source": [
    "from datetime import datetime"
   ]
  },
  {
   "cell_type": "code",
   "execution_count": 4,
   "id": "14a06580",
   "metadata": {},
   "outputs": [],
   "source": [
    "myyear=2022\n",
    "mymonth=4\n",
    "myday=9\n",
    "myhour=23\n",
    "mymin=11\n",
    "mysec=35"
   ]
  },
  {
   "cell_type": "code",
   "execution_count": 9,
   "id": "dc3cd83e",
   "metadata": {},
   "outputs": [
    {
     "data": {
      "text/plain": [
       "datetime.datetime(2022, 4, 9, 23, 11, 35)"
      ]
     },
     "execution_count": 9,
     "metadata": {},
     "output_type": "execute_result"
    }
   ],
   "source": [
    "mytime=datetime(myyear,mymonth,myday,myhour,mymin,mysec\n",
    "               )\n",
    "mytime"
   ]
  },
  {
   "cell_type": "code",
   "execution_count": 16,
   "id": "bb95a635",
   "metadata": {},
   "outputs": [
    {
     "data": {
      "text/plain": [
       "datetime.datetime(2022, 4, 27, 20, 35, 47, 13750)"
      ]
     },
     "execution_count": 16,
     "metadata": {},
     "output_type": "execute_result"
    }
   ],
   "source": [
    "mytime.today()"
   ]
  },
  {
   "cell_type": "code",
   "execution_count": 22,
   "id": "ae47c610",
   "metadata": {},
   "outputs": [
    {
     "data": {
      "text/plain": [
       "9"
      ]
     },
     "execution_count": 22,
     "metadata": {},
     "output_type": "execute_result"
    }
   ],
   "source": [
    "mytime.day"
   ]
  },
  {
   "cell_type": "markdown",
   "id": "db1fe085",
   "metadata": {},
   "source": [
    "## II. `datetime64[ ]` from Numpy\n"
   ]
  },
  {
   "cell_type": "code",
   "execution_count": 23,
   "id": "c0cf775f",
   "metadata": {},
   "outputs": [],
   "source": [
    "import numpy as np"
   ]
  },
  {
   "cell_type": "code",
   "execution_count": 34,
   "id": "700887c0",
   "metadata": {},
   "outputs": [
    {
     "data": {
      "text/plain": [
       "array(['2022-04-01T00', '2022-07-29T00', '2022-06-16T00'],\n",
       "      dtype='datetime64[h]')"
      ]
     },
     "execution_count": 34,
     "metadata": {},
     "output_type": "execute_result"
    }
   ],
   "source": [
    "# pass in a list of dates together with `dtype`\n",
    "np.array(['2022-04','2022-07-29','2022-06-16'],dtype='datetime64[h]')"
   ]
  },
  {
   "cell_type": "markdown",
   "id": "6d8122af",
   "metadata": {},
   "source": [
    "### standard format is year-month-day, can be down to year or year-month"
   ]
  },
  {
   "cell_type": "code",
   "execution_count": 57,
   "id": "72f769e7",
   "metadata": {},
   "outputs": [
    {
     "data": {
      "text/plain": [
       "array(['2012-07-18', '2012-08-17', '2012-09-16', '2012-10-16',\n",
       "       '2012-11-15', '2012-12-15'], dtype='datetime64[D]')"
      ]
     },
     "execution_count": 57,
     "metadata": {},
     "output_type": "execute_result"
    }
   ],
   "source": [
    "# arange, similar to usual arange with 3 paras: begin, end, freq. For datetime arange need dtype\n",
    "\n",
    "np.arange('2012-07-18','2013-01-05',30, dtype='datetime64[D]')\n",
    "\n",
    "# above example, 30 days apart of each other"
   ]
  },
  {
   "cell_type": "markdown",
   "id": "32f67eab",
   "metadata": {},
   "source": [
    "## III. `to_dataframe` from Panda"
   ]
  },
  {
   "cell_type": "code",
   "execution_count": 38,
   "id": "0f6d5f7d",
   "metadata": {},
   "outputs": [],
   "source": [
    "import pandas as pd"
   ]
  },
  {
   "cell_type": "code",
   "execution_count": 40,
   "id": "9d6ff46e",
   "metadata": {},
   "outputs": [
    {
     "data": {
      "text/plain": [
       "DatetimeIndex(['2020-01-03', '2020-01-04', '2020-01-05', '2020-01-06',\n",
       "               '2020-01-07', '2020-01-08', '2020-01-09', '2020-01-10',\n",
       "               '2020-01-11', '2020-01-12'],\n",
       "              dtype='datetime64[ns]', freq='D')"
      ]
     },
     "execution_count": 40,
     "metadata": {},
     "output_type": "execute_result"
    }
   ],
   "source": [
    "# a range of dates, requiring start, periods, freq.\n",
    "pd.date_range('Jan 3, 2020', periods=10, freq='D')"
   ]
  },
  {
   "cell_type": "code",
   "execution_count": 42,
   "id": "d413bce9",
   "metadata": {},
   "outputs": [
    {
     "data": {
      "text/plain": [
       "DatetimeIndex(['2020-01-03', '2020-01-04', '2020-01-05', '2020-01-06',\n",
       "               '2020-01-07', '2020-01-08', '2020-01-09', '2020-01-10',\n",
       "               '2020-01-11', '2020-01-12'],\n",
       "              dtype='datetime64[ns]', freq='D')"
      ]
     },
     "execution_count": 42,
     "metadata": {},
     "output_type": "execute_result"
    }
   ],
   "source": [
    "# or \n",
    "pd.date_range('2020-01-03', periods=10, freq='D')"
   ]
  },
  {
   "cell_type": "code",
   "execution_count": 53,
   "id": "d505ed30",
   "metadata": {},
   "outputs": [
    {
     "data": {
      "text/plain": [
       "DatetimeIndex(['2017-01-03', '2018-05-05', '2018-01-09'], dtype='datetime64[ns]', freq=None)"
      ]
     },
     "execution_count": 53,
     "metadata": {},
     "output_type": "execute_result"
    }
   ],
   "source": [
    "# to_datetime, pass in an iterable like list, array...\n",
    "pd.to_datetime(['1/3/2017','May 5, 2018','2018-01-9'])\n"
   ]
  },
  {
   "cell_type": "code",
   "execution_count": 55,
   "id": "13112e75",
   "metadata": {},
   "outputs": [
    {
     "data": {
      "text/plain": [
       "DatetimeIndex(['2018-06-01', '2019-12-05'], dtype='datetime64[ns]', freq=None)"
      ]
     },
     "execution_count": 55,
     "metadata": {},
     "output_type": "execute_result"
    }
   ],
   "source": [
    "# using format to indicate type of data\n",
    "pd.to_datetime(['01/06/2018','5/12/2019'],format='%d/%m/%Y')"
   ]
  },
  {
   "cell_type": "markdown",
   "id": "c4aee494",
   "metadata": {},
   "source": [
    "### Important: \n",
    "\n",
    "#### standard is y-m-d. Pandas can also understand 'Jan 01, 2019' and 'm/d/y'\n",
    "#### contrast to Numpy which require 0 before one-digit month like 01 for Jan, Pandas can understand 01 and 1, both mean Jan in Pandas"
   ]
  },
  {
   "cell_type": "code",
   "execution_count": 58,
   "id": "515b406e",
   "metadata": {},
   "outputs": [
    {
     "data": {
      "text/plain": [
       "array([[ 1.61816101, -0.97811743,  0.86858171, -0.12217804, -0.8111899 ],\n",
       "       [-1.10790506,  0.91350869,  0.46290478,  0.60832569, -0.21955475],\n",
       "       [-0.55369001, -0.06497126, -1.0842291 , -0.60746675,  1.16150072]])"
      ]
     },
     "execution_count": 58,
     "metadata": {},
     "output_type": "execute_result"
    }
   ],
   "source": [
    "np.random.randn(3,5)"
   ]
  },
  {
   "cell_type": "code",
   "execution_count": 65,
   "id": "7fafed14",
   "metadata": {},
   "outputs": [],
   "source": [
    "myindex=pd.date_range('2015-04-07',periods=3,freq='D')"
   ]
  },
  {
   "cell_type": "code",
   "execution_count": 67,
   "id": "c0c7f1f2",
   "metadata": {},
   "outputs": [
    {
     "data": {
      "text/html": [
       "<div>\n",
       "<style scoped>\n",
       "    .dataframe tbody tr th:only-of-type {\n",
       "        vertical-align: middle;\n",
       "    }\n",
       "\n",
       "    .dataframe tbody tr th {\n",
       "        vertical-align: top;\n",
       "    }\n",
       "\n",
       "    .dataframe thead th {\n",
       "        text-align: right;\n",
       "    }\n",
       "</style>\n",
       "<table border=\"1\" class=\"dataframe\">\n",
       "  <thead>\n",
       "    <tr style=\"text-align: right;\">\n",
       "      <th></th>\n",
       "      <th>A</th>\n",
       "      <th>B</th>\n",
       "      <th>C</th>\n",
       "      <th>D</th>\n",
       "      <th>E</th>\n",
       "    </tr>\n",
       "  </thead>\n",
       "  <tbody>\n",
       "    <tr>\n",
       "      <th>2015-04-07</th>\n",
       "      <td>0.745496</td>\n",
       "      <td>0.287580</td>\n",
       "      <td>0.192212</td>\n",
       "      <td>-1.278934</td>\n",
       "      <td>0.887161</td>\n",
       "    </tr>\n",
       "    <tr>\n",
       "      <th>2015-04-08</th>\n",
       "      <td>-1.032526</td>\n",
       "      <td>-0.077230</td>\n",
       "      <td>1.101073</td>\n",
       "      <td>1.113073</td>\n",
       "      <td>-0.005869</td>\n",
       "    </tr>\n",
       "    <tr>\n",
       "      <th>2015-04-09</th>\n",
       "      <td>1.594212</td>\n",
       "      <td>-0.643254</td>\n",
       "      <td>-0.937734</td>\n",
       "      <td>1.922701</td>\n",
       "      <td>1.748236</td>\n",
       "    </tr>\n",
       "  </tbody>\n",
       "</table>\n",
       "</div>"
      ],
      "text/plain": [
       "                   A         B         C         D         E\n",
       "2015-04-07  0.745496  0.287580  0.192212 -1.278934  0.887161\n",
       "2015-04-08 -1.032526 -0.077230  1.101073  1.113073 -0.005869\n",
       "2015-04-09  1.594212 -0.643254 -0.937734  1.922701  1.748236"
      ]
     },
     "execution_count": 67,
     "metadata": {},
     "output_type": "execute_result"
    }
   ],
   "source": [
    "df=pd.DataFrame(np.random.randn(3,5), index=myindex, columns=['A','B','C','D','E'])\n",
    "df"
   ]
  },
  {
   "cell_type": "code",
   "execution_count": 69,
   "id": "db56549c",
   "metadata": {},
   "outputs": [
    {
     "data": {
      "text/plain": [
       "DatetimeIndex(['2015-04-07', '2015-04-08', '2015-04-09'], dtype='datetime64[ns]', freq='D')"
      ]
     },
     "execution_count": 69,
     "metadata": {},
     "output_type": "execute_result"
    }
   ],
   "source": [
    "df.index"
   ]
  },
  {
   "cell_type": "code",
   "execution_count": 71,
   "id": "122dab25",
   "metadata": {},
   "outputs": [
    {
     "data": {
      "text/plain": [
       "Timestamp('2015-04-09 00:00:00', freq='D')"
      ]
     },
     "execution_count": 71,
     "metadata": {},
     "output_type": "execute_result"
    }
   ],
   "source": [
    "df.index.max()"
   ]
  },
  {
   "cell_type": "code",
   "execution_count": 72,
   "id": "75481e3e",
   "metadata": {},
   "outputs": [
    {
     "data": {
      "text/plain": [
       "2"
      ]
     },
     "execution_count": 72,
     "metadata": {},
     "output_type": "execute_result"
    }
   ],
   "source": [
    "df.index.argmax()"
   ]
  },
  {
   "cell_type": "code",
   "execution_count": null,
   "id": "5787516b",
   "metadata": {},
   "outputs": [],
   "source": []
  }
 ],
 "metadata": {
  "kernelspec": {
   "display_name": "Python 3 (ipykernel)",
   "language": "python",
   "name": "python3"
  },
  "language_info": {
   "codemirror_mode": {
    "name": "ipython",
    "version": 3
   },
   "file_extension": ".py",
   "mimetype": "text/x-python",
   "name": "python",
   "nbconvert_exporter": "python",
   "pygments_lexer": "ipython3",
   "version": "3.9.7"
  }
 },
 "nbformat": 4,
 "nbformat_minor": 5
}
